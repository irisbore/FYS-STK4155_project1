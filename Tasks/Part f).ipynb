{
 "cells": [
  {
   "cell_type": "markdown",
   "metadata": {},
   "source": [
    "# Part f): Cross-validation as resampling techniques, adding more complexity"
   ]
  },
  {
   "cell_type": "code",
   "execution_count": null,
   "metadata": {},
   "outputs": [],
   "source": [
    "import numpy as np\n",
    "from sklearn.model_selection import cross_val_score\n",
    "from sklearn.linear_model import LinearRegression, Ridge, Lasso\n",
    "\n",
    "# Generate the Franke function data\n",
    "np.random.seed(2022)\n",
    "x = np.arange(0, 1, 0.05)\n",
    "y = np.arange(0, 1, 0.05)\n",
    "z = FrankeFunction(x, y)\n",
    "\n",
    "# Define the range of polynomial degrees to test\n",
    "degrees = np.arange(1, 10)\n",
    "\n",
    "# Define the number of folds\n",
    "k_folds = 10\n",
    "\n",
    "# Initialize arrays to store the MSE values\n",
    "mse_ols = np.zeros_like(degrees, dtype=float)\n",
    "mse_ridge = np.zeros_like(degrees, dtype=float)\n",
    "mse_lasso = np.zeros_like(degrees, dtype=float)\n",
    "\n",
    "# Perform k-fold cross-validation for each degree\n",
    "for i, degree in enumerate(degrees):\n",
    "    # Create polynomial features\n",
    "    poly_features = PolynomialFeatures(degree=degree)\n",
    "    X = poly_features.fit_transform(np.column_stack((x, y)))\n",
    "    \n",
    "    # Perform k-fold cross-validation for ordinary least squares\n",
    "    model_ols = LinearRegression()\n",
    "    mse_ols[i] = -np.mean(cross_val_score(model_ols, X, z, cv=k_folds, scoring='neg_mean_squared_error'))\n",
    "    \n",
    "    # Perform k-fold cross-validation for Ridge regression\n",
    "    model_ridge = Ridge(alpha=10)  # You can adjust the alpha value\n",
    "    mse_ridge[i] = -np.mean(cross_val_score(model_ridge, X, z, cv=k_folds, scoring='neg_mean_squared_error'))\n",
    "    \n",
    "    # Perform k-fold cross-validation for Lasso regression\n",
    "    model_lasso = Lasso(alpha=0.01)  # You can adjust the alpha value\n",
    "    mse_lasso[i] = -np.mean(cross_val_score(model_lasso, X, z, cv=k_folds, scoring='neg_mean_squared_error'))\n",
    "\n",
    "\n",
    "# Define the range of polynomial degrees\n",
    "degrees = np.arange(1, 10)\n",
    "\n",
    "# Plot the MSE values\n",
    "plt.figure(figsize=(8, 6))\n",
    "plt.plot(degrees, mse_ols, label='OLS', marker='o')\n",
    "plt.plot(degrees, mse_ridge, label='Ridge', marker='o')\n",
    "plt.plot(degrees, mse_lasso, label='Lasso', marker='o')\n",
    "plt.xlabel('Polynomial Degree')\n",
    "plt.ylabel('MSE')\n",
    "plt.title('MSE for OLS, Ridge, and Lasso')\n",
    "plt.legend()\n",
    "plt.grid(True)\n",
    "plt.show()\n"
   ]
  }
 ],
 "metadata": {
  "language_info": {
   "name": "python"
  }
 },
 "nbformat": 4,
 "nbformat_minor": 2
}
