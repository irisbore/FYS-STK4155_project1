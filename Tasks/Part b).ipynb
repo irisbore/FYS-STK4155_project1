{
 "cells": [
  {
   "cell_type": "markdown",
   "metadata": {},
   "source": [
    "## Part b): Adding Ridge regression for the Franke function"
   ]
  },
  {
   "cell_type": "code",
   "execution_count": null,
   "metadata": {},
   "outputs": [],
   "source": [
    "from mpl_toolkits.mplot3d import Axes3D\n",
    "import matplotlib.pyplot as plt\n",
    "from matplotlib import cm\n",
    "from matplotlib.ticker import LinearLocator, FormatStrFormatter\n",
    "import numpy as np\n",
    "from random import random, seed\n",
    "from functions import FrankeFunction, create_design_matrix"
   ]
  },
  {
   "cell_type": "code",
   "execution_count": null,
   "metadata": {},
   "outputs": [],
   "source": [
    "#Using a standardized dataset \n",
    "np.random.seed(2024)\n",
    "\n",
    "x = np.arange(0, 1, 0.05)\n",
    "y = np.arange(0, 1, 0.05)\n",
    "z = FrankeFunction(x, y)\n",
    "\n",
    "#Creating lambda values avoiding \"b\" x.Tin the name as it is a reserved keyword in python\n",
    "#lamda = [1, 10, 100, 1000, 10000]\n",
    "lamda = [0.0001,0.001,0.01,0.1,1.0]\n"
   ]
  },
  {
   "cell_type": "code",
   "execution_count": null,
   "metadata": {},
   "outputs": [],
   "source": [
    "\n",
    "\n",
    "beta_Ridge_values = []\n",
    "mse_Ridge_scores = []\n",
    "r2_Ridge_scores = []\n",
    "\n",
    "# Looping through each lambda\n",
    "for i in range(np.size(lamda)):\n",
    "    # Polynomial degrees\n",
    "    degrees = np.arange(0, 5)\n",
    "\n",
    "    # Appending lists to store scores and parameters\n",
    "    beta_Ridge_values.append([])\n",
    "    mse_Ridge_scores.append([])\n",
    "    r2_Ridge_scores.append([])\n",
    "\n",
    "\n",
    "    # Looping through each degree\n",
    "    for degree in degrees:\n",
    "        # Creating design matrix\n",
    "        X = create_design_matrix(x, y, degree)\n",
    "        I = np.eye(degree+1)\n",
    "        betaRidge =  np.linalg.inv(X.T @ X + I*lamda[i]) @ X.T @ z\n",
    "        beta_Ridge_values[i].append(betaRidge)\n",
    "        mse_Ridge_scores[i].append(np.mean((z - X @ betaRidge)**2))\n",
    "        r2_Ridge_scores[i].append(1 - (np.sum((z - X @ betaRidge)**2) / np.sum((z - np.mean(z))**2)))\n",
    "\n"
   ]
  },
  {
   "cell_type": "code",
   "execution_count": null,
   "metadata": {},
   "outputs": [],
   "source": [
    "# Plotting MSE and R2 scores\n",
    "plt.figure(figsize=(10, 5))\n",
    "plt.subplot(1, 2, 1)\n",
    "plt.xlabel('Polynomial Degree')\n",
    "plt.ylabel('MSE')\n",
    "plt.title('MSE as a function of Polynomial Degree')\n",
    "plt.grid()\n",
    "\n",
    "plt.subplot(1, 2, 2)\n",
    "plt.xlabel('Polynomial Degree')\n",
    "plt.ylabel('R2')\n",
    "plt.title('R2 as a function of Polynomial Degree')\n",
    "plt.grid()\n",
    "\n",
    "r2_Ridge_scores = (np.array(r2_Ridge_scores)/np.max(r2_Ridge_scores))*100\n",
    "\n",
    "for j in range(np.size(lamda)):\n",
    "    plt.subplot(1, 2, 1)\n",
    "    plt.semilogy(degrees, mse_Ridge_scores[j], marker='o', label=f'Lambda = {lamda[j]}')\n",
    "    plt.subplot(1, 2, 2)\n",
    "    plt.plot(degrees, r2_Ridge_scores[j], marker='o', label=f'Lambda = {lamda[j]}')\n",
    "\n",
    "plt.tight_layout()\n",
    "plt.legend(loc='upper left')\n",
    "plt.show()"
   ]
  },
  {
   "cell_type": "code",
   "execution_count": null,
   "metadata": {},
   "outputs": [],
   "source": [
    "# Plotting beta values\n",
    "plt.figure(figsize=(10, 5))\n",
    "plt.xlabel('Polynomial Degree')\n",
    "plt.ylabel('Beta Values')\n",
    "plt.title('Beta Values as a function of Polynomial Degree')\n",
    "plt.grid()\n",
    "\n",
    "colors = ['red', 'blue', 'green', 'orange', 'purple']  # Define colors for each lambda\n",
    "\n",
    "\n",
    "for i in range(len(beta_Ridge_values)):\n",
    "    for j in range(len(beta_Ridge_values[i])):\n",
    "        for k in range(len(beta_Ridge_values[i][j])):\n",
    "            beta_i = beta_Ridge_values[i][j][k]\n",
    "            plt.plot(degrees[j]*np.ones_like(beta_Ridge_values[i][j][k]), beta_Ridge_values[i][j][k], marker='o', color=colors[i], label= f'Lambda = {lamda[i]}' if k == 0 else None)  # Use color based on lambda\n",
    "\n",
    "plt.tight_layout()\n",
    "plt.legend(handles=[plt.Line2D([0], [0], marker='o', color='w', label=f'Lambda = {lamda[i]}', markerfacecolor=colors[i], markersize=8) for i in range(len(lamda))])\n",
    "plt.show()\n"
   ]
  },
  {
   "cell_type": "markdown",
   "metadata": {},
   "source": [
    "We can see that the beta values are approximating zero with higher polynomial order. "
   ]
  }
 ],
 "metadata": {
  "kernelspec": {
   "display_name": ".venv",
   "language": "python",
   "name": "python3"
  },
  "language_info": {
   "codemirror_mode": {
    "name": "ipython",
    "version": 3
   },
   "file_extension": ".py",
   "mimetype": "text/x-python",
   "name": "python",
   "nbconvert_exporter": "python",
   "pygments_lexer": "ipython3",
   "version": "3.11.9"
  }
 },
 "nbformat": 4,
 "nbformat_minor": 2
}
