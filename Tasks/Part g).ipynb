{
 "cells": [
  {
   "cell_type": "markdown",
   "metadata": {},
   "source": [
    "# Part g): Analysis of real data "
   ]
  },
  {
   "cell_type": "markdown",
   "metadata": {},
   "source": [
    "### Importing terrain data"
   ]
  },
  {
   "cell_type": "code",
   "execution_count": null,
   "metadata": {},
   "outputs": [],
   "source": [
    "import numpy as np\n",
    "from imageio import imread\n",
    "import matplotlib.pyplot as plt\n",
    "from mpl_toolkits.mplot3d import Axes3D\n",
    "from matplotlib import cm\n",
    "# Load the terrain\n",
    "terrain1 = imread(\"SRTM_data_Norway_1.tif\")\n",
    "# Show the terrain\n",
    "plt.figure()\n",
    "plt.title(\"Terrain over Norway 1\")\n",
    "plt.imshow(terrain1, cmap=\"gray\")\n",
    "plt.xlabel(\"X\")\n",
    "plt.ylabel(\"Y\")\n",
    "plt.show()\n"
   ]
  },
  {
   "cell_type": "markdown",
   "metadata": {},
   "source": [
    "### Analysis of terrain data"
   ]
  },
  {
   "cell_type": "code",
   "execution_count": null,
   "metadata": {},
   "outputs": [],
   "source": [
    "import numpy as np\n",
    "from sklearn.model_selection import cross_val_score\n",
    "from sklearn.linear_model import LinearRegression, Ridge, Lasso\n",
    "from sklearn.preprocessing import PolynomialFeatures\n",
    "from sklearn.metrics import mean_squared_error, r2_score\n",
    "\n",
    "import matplotlib.pyplot as plt\n",
    "\n",
    "# Load the terrain data\n",
    "terrain_data = imread(\"SRTM_data_Norway_1.tif\")\n",
    "\n",
    "# Define the x and y coordinates\n",
    "x = np.arange(0, terrain_data.shape[1])\n",
    "y = np.arange(0, terrain_data.shape[0])\n",
    "\n",
    "# Create a meshgrid of the x and y coordinates\n",
    "X, Y = np.meshgrid(x, y)\n",
    "\n",
    "# Flatten the terrain data and coordinates\n",
    "z = terrain_data.flatten()\n",
    "X_flat = X.flatten()\n",
    "Y_flat = Y.flatten()\n"
   ]
  },
  {
   "cell_type": "code",
   "execution_count": null,
   "metadata": {},
   "outputs": [],
   "source": [
    "\"\"\"# Vary the polynomial degree\n",
    "degrees = np.arange(1, 11)\n",
    "\n",
    "# Initialize lists to store the MSE values\n",
    "mse_linear_list = []\n",
    "mse_ridge_list = []\n",
    "mse_lasso_list = []\n",
    "\n",
    "# Perform regression for each degree\n",
    "for degree in degrees:\n",
    "    # Create polynomial features\n",
    "    poly_features = PolynomialFeatures(degree=degree)\n",
    "    X_poly = poly_features.fit_transform(np.column_stack((X_flat, Y_flat)))\n",
    "    \n",
    "    # Perform linear regression with cross-validation\n",
    "    model_linear = LinearRegression()\n",
    "    mse_linear = -np.mean(cross_val_score(model_linear, X_poly, z, cv=k_folds, scoring='neg_mean_squared_error'))\n",
    "    mse_linear_list.append(mse_linear)\n",
    "    \n",
    "    # Perform ridge regression with cross-validation\n",
    "    model_ridge = Ridge(alpha=0.01)  # Set the alpha value\n",
    "    mse_ridge = -np.mean(cross_val_score(model_ridge, X_poly, z, cv=k_folds, scoring='neg_mean_squared_error'))\n",
    "    mse_ridge_list.append(mse_ridge)\n",
    "    \n",
    "    # Perform Lasso regression with cross-validation\n",
    "    model_lasso = Lasso(alpha=0.01)  # Set the alpha value\n",
    "    mse_lasso = -np.mean(cross_val_score(model_lasso, X_poly, z, cv=k_folds, scoring='neg_mean_squared_error'))\n",
    "    mse_lasso_list.append(mse_lasso)\n",
    "\n",
    "# Plot the MSE values\n",
    "plt.figure(figsize=(8, 6))\n",
    "plt.plot(degrees, mse_linear_list, label='Linear Regression', marker='o')\n",
    "plt.plot(degrees, mse_ridge_list, label='Ridge Regression', marker='o')\n",
    "plt.plot(degrees, mse_lasso_list, label='Lasso Regression', marker='o')\n",
    "plt.xlabel('Polynomial Degree')\n",
    "plt.ylabel('MSE')\n",
    "plt.title('MSE for Different Regression Methods with Cross-Validation')\n",
    "plt.legend()\n",
    "plt.grid(True)\n",
    "plt.show()\"\"\""
   ]
  },
  {
   "cell_type": "markdown",
   "metadata": {},
   "source": [
    "\"At the end, you should present a critical evaluation of your results and discuss\n",
    "the applicability of these regression methods to the type of data presented here\n",
    "(either the terrain data we propose or other data sets)\""
   ]
  }
 ],
 "metadata": {
  "kernelspec": {
   "display_name": ".venv",
   "language": "python",
   "name": "python3"
  },
  "language_info": {
   "codemirror_mode": {
    "name": "ipython",
    "version": 3
   },
   "file_extension": ".py",
   "mimetype": "text/x-python",
   "name": "python",
   "nbconvert_exporter": "python",
   "pygments_lexer": "ipython3",
   "version": "3.12.3"
  }
 },
 "nbformat": 4,
 "nbformat_minor": 2
}
