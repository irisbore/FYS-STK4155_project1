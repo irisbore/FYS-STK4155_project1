{
 "cells": [
  {
   "cell_type": "markdown",
   "metadata": {},
   "source": [
    "## Part b): Adding Ridge regression for the Franke function"
   ]
  },
  {
   "cell_type": "code",
   "execution_count": null,
   "metadata": {},
   "outputs": [],
   "source": [
    "from mpl_toolkits.mplot3d import Axes3D\n",
    "import matplotlib.pyplot as plt\n",
    "from matplotlib import cm\n",
    "from matplotlib.ticker import LinearLocator, FormatStrFormatter\n",
    "import numpy as np\n",
    "from random import random, seed\n",
    "from sklearn.model_selection import train_test_split\n",
    "from sklearn.preprocessing import StandardScaler\n",
    "import sys\n",
    "sys.path.append(\"../\")\n",
    "import functions as f \n",
    "plt.style.use('seaborn-v0_8-whitegrid')"
   ]
  },
  {
   "cell_type": "code",
   "execution_count": null,
   "metadata": {},
   "outputs": [],
   "source": [
    "#Using a standardized dataset \n",
    "np.random.seed(42)\n",
    "N = 50\n",
    "x = np.random.rand(N)\n",
    "y = np.random.randn(N)\n",
    "z = f.FrankeFunction(x,y) #Using x,y and z when doing regression\n",
    "z = z + np.random.normal(0, 0.1, z.shape) #the noise was too high, tried sligtly less\n",
    "\n",
    "#x = np.arange(0, 1, 0.05)\n",
    "#y = np.arange(0, 1, 0.05)\n",
    "#z = f.FrankeFunction(x, y)\n",
    "#z = z + np.random.randn(z.shape[0])\n",
    "#z = z + np.random.normal(0, 0.1, z.shape[0])\n",
    "\n",
    "\n",
    "#Creating lambda values avoiding \"b\" x.Tin the name as it is a reserved keyword in python\n",
    "#lamda = np.array([0.001,0.01,0.1, 1])#\n",
    "lamda = np.logspace(-5, 1, 7)\n",
    "#lamda = np.logspace(-3, -1, 5)\n",
    "\n",
    "# Polynomial degrees\n",
    "#degrees = np.arange(0, 5)\n",
    "degrees = np.arange(0, 10)"
   ]
  },
  {
   "cell_type": "code",
   "execution_count": null,
   "metadata": {},
   "outputs": [],
   "source": [
    "\n",
    "beta_Ridge_values = []\n",
    "mse_Ridge_scores = []\n",
    "r2_Ridge_scores = []\n",
    "\n",
    "# Looping through each lambda\n",
    "for i in range(np.size(lamda)):\n",
    "\n",
    "    # Appending lists to store scores and parameters\n",
    "    beta_Ridge_values.append([])\n",
    "    mse_Ridge_scores.append([])\n",
    "    r2_Ridge_scores.append([])\n",
    "\n",
    "    # Looping through each degree\n",
    "    for degree in degrees:\n",
    "        # Creating design matrix\n",
    "        X = f.create_design_matrix(x, y, degree)\n",
    "        \n",
    "        # Split the data into training and test data\n",
    "        X_train, X_test, z_train, z_test = train_test_split(X, z, test_size=0.2, random_state=42)\n",
    "\n",
    "        # Scale and center the data\n",
    "        scaler = StandardScaler(with_std=True, with_mean=False)\n",
    "        X_train = scaler.fit_transform(X_train)\n",
    "        X_test = scaler.transform(X_test)\n",
    "        \n",
    "        lamda_i = lamda[i]\n",
    "\n",
    "        betaRidge = f.beta_ridge(X_train, z_train, lamda_i)\n",
    "        \n",
    "        ztilde = f.z_predict(X_train, betaRidge)\n",
    "\n",
    "        mse = f.mse(z_train, ztilde)\n",
    "        r2 = f.r2(z_train, ztilde)\n",
    "\n",
    "        beta_Ridge_values[i].append(betaRidge)\n",
    "        mse_Ridge_scores[i].append(mse)\n",
    "        r2_Ridge_scores[i].append(r2)\n",
    "\n"
   ]
  },
  {
   "cell_type": "code",
   "execution_count": null,
   "metadata": {},
   "outputs": [],
   "source": [
    "# Plotting MSE and R2 scores\n",
    "plt.figure(figsize=(10, 5))\n",
    "plt.subplot(1, 2, 1)\n",
    "plt.xlabel('Polynomial Degree')\n",
    "plt.ylabel('MSE')\n",
    "plt.title('MSE as a function of Polynomial Degree')\n",
    "#plt.grid()\n",
    "\n",
    "plt.subplot(1, 2, 2)\n",
    "plt.xlabel('Polynomial Degree')\n",
    "plt.ylabel('R2')\n",
    "plt.title('R2 as a function of Polynomial Degree')\n",
    "#plt.grid()\n",
    "\n",
    "for j in range(np.size(lamda)):\n",
    "    plt.subplot(1, 2, 1)\n",
    "    plt.plot(degrees, (mse_Ridge_scores[j]), label=f'Lambda = {lamda[j]}')\n",
    "    plt.subplot(1, 2, 2)\n",
    "    plt.plot(degrees, r2_Ridge_scores[j], label=f'Lambda = {lamda[j]}')\n",
    "\n",
    "plt.legend()\n",
    "plt.tight_layout()\n",
    "plt.show()"
   ]
  },
  {
   "cell_type": "markdown",
   "metadata": {},
   "source": [
    "# STUDY THE DEPENDENCE ON LAMBDAS\n",
    "\n",
    "I think we need a heatmap in plot below"
   ]
  },
  {
   "cell_type": "code",
   "execution_count": null,
   "metadata": {},
   "outputs": [],
   "source": []
  },
  {
   "cell_type": "code",
   "execution_count": null,
   "metadata": {},
   "outputs": [],
   "source": [
    "# Plotting beta values\n",
    "plt.figure(figsize=(10, 5))\n",
    "plt.xlabel('Polynomial Degree')\n",
    "plt.ylabel('Beta Values')\n",
    "plt.title('Beta Values as a function of Polynomial Degree')\n",
    "\n",
    "colors = ['red', 'blue', 'green', 'orange', 'purple']  # Define colors for each lambda\n",
    "\n",
    "\n",
    "for i in range(len(beta_Ridge_values)):\n",
    "    for j in range(len(beta_Ridge_values[i])):\n",
    "        for k in range(len(beta_Ridge_values[i][j])):\n",
    "            beta_i = beta_Ridge_values[i][j][k]\n",
    "            plt.plot(degrees[j]*np.ones_like(beta_Ridge_values[i][j][k]), beta_Ridge_values[i][j][k], marker='o', label= f'Lambda = {lamda[i]}' if k == 0 else None)  # Use color based on lambda  color=colors[i],\n",
    "\n",
    "plt.tight_layout()\n",
    "plt.legend(handles=[plt.Line2D([0], [0], marker='o', color='w', label=f'Lambda = {lamda[i]}', markersize=8) for i in range(len(lamda))]) #, markerfacecolor=colors[i]\n",
    "plt.show()\n"
   ]
  },
  {
   "cell_type": "markdown",
   "metadata": {},
   "source": [
    "We can see that the beta values are approximating zero with higher polynomial order. "
   ]
  }
 ],
 "metadata": {
  "kernelspec": {
   "display_name": ".venv",
   "language": "python",
   "name": "python3"
  },
  "language_info": {
   "codemirror_mode": {
    "name": "ipython",
    "version": 3
   },
   "file_extension": ".py",
   "mimetype": "text/x-python",
   "name": "python",
   "nbconvert_exporter": "python",
   "pygments_lexer": "ipython3",
   "version": "3.11.9"
  }
 },
 "nbformat": 4,
 "nbformat_minor": 2
}
