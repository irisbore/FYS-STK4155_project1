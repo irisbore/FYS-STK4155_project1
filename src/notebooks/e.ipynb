{
 "cells": [
  {
   "cell_type": "markdown",
   "metadata": {},
   "source": [
    "# Part e): Bias-variance trade-off and resampling techniques"
   ]
  },
  {
   "cell_type": "code",
   "execution_count": null,
   "metadata": {},
   "outputs": [],
   "source": [
    "import matplotlib.pyplot as plt\n",
    "import numpy as np\n",
    "from sklearn.linear_model import LinearRegression, Ridge, Lasso\n",
    "from sklearn.preprocessing import PolynomialFeatures, StandardScaler\n",
    "from sklearn.model_selection import train_test_split\n",
    "from sklearn.pipeline import make_pipeline\n",
    "from sklearn.utils import resample\n",
    "import sys\n",
    "sys.path.append(\"../\")\n",
    "import functions as f\n",
    "import load_data as ld\n",
    "plt.style.use('seaborn-v0_8-whitegrid')"
   ]
  },
  {
   "cell_type": "markdown",
   "metadata": {},
   "source": [
    "### Reproduction of Bias-variance plot"
   ]
  },
  {
   "cell_type": "code",
   "execution_count": null,
   "metadata": {},
   "outputs": [],
   "source": [
    "# Create data for model complexity and errors\n",
    "model_complexity = np.linspace(0, 10, 100)\n",
    "\n",
    "# Generate training and test error data\n",
    "training_error = np.exp(-0.3 * model_complexity) + 0.1 * np.random.rand(100)\n",
    "test_error = np.exp(-0.3 * model_complexity) + 0.1 * model_complexity + 0.2 * np.random.rand(100)\n",
    "\n",
    "# Plot the data\n",
    "plt.figure(figsize=(8, 6))\n",
    "plt.plot(model_complexity, training_error, label=\"Training Sample\", color='teal', linewidth=2)\n",
    "plt.plot(model_complexity, test_error, label=\"Test Sample\", color='red', linewidth=2)\n",
    "\n",
    "# Add labels and title\n",
    "plt.xlabel(\"Model Complexity\")\n",
    "plt.ylabel(\"Prediction Error\")\n",
    "plt.title(\"Test and Training Error as a function of Model Complexity\")\n",
    "\n",
    "# Add legend\n",
    "plt.legend()\n",
    "\n",
    "# Show the plot\n",
    "plt.show()\n"
   ]
  },
  {
   "cell_type": "markdown",
   "metadata": {},
   "source": [
    "### Rewriting the cost-function in terms of bias, variance and noise"
   ]
  },
  {
   "cell_type": "markdown",
   "metadata": {},
   "source": [
    "We aim to show that this expression can be written as:\n",
    "\n",
    "$\\mathbb{E}[(y - \\tilde{y})^2] = \\text{Bias}[\\tilde{y}] + \\text{Var}[\\tilde{y}] + \\sigma^2$\n",
    "\n",
    "We decompose the expected value $( \\mathbb{E}[(y - \\tilde{y})^2] )$ into bias, variance, and noise. To do this, let’s add and subtract $( \\mathbb{E}[\\tilde{y}] )$, the expected value of the prediction:\n",
    "\n",
    "$y - \\tilde{y} = \\left( y - \\mathbb{E}[\\tilde{y}] \\right) + \\left( \\mathbb{E}[\\tilde{y}] - \\tilde{y} \\right)$\n",
    "\n",
    "Now, we square both sides:\n",
    "\n",
    "$(y - \\tilde{y})^2 = \\left( y - \\mathbb{E}[\\tilde{y}] \\right)^2 + \\left( \\mathbb{E}[\\tilde{y}] - \\tilde{y} \\right)^2 + 2\\left( y - \\mathbb{E}[\\tilde{y}] \\right)\\left( \\mathbb{E}[\\tilde{y}] - \\tilde{y} \\right)$\n",
    "\n",
    "Now, take the expectation $( \\mathbb{E} )$ of both sides. First, note that $( \\mathbb{E}[\\tilde{y}] )$ is a constant, so:\n",
    "\n",
    "$\\mathbb{E}[(y - \\tilde{y})^2] = \\mathbb{E} \\left[ (y - \\mathbb{E}[\\tilde{y}])^2 \\right] + \\mathbb{E} \\left[ (\\tilde{y} - \\mathbb{E}[\\tilde{y}])^2 \\right] + 2 \\mathbb{E} \\left[ (y - \\mathbb{E}[\\tilde{y}]) (\\mathbb{E}[\\tilde{y}] - \\tilde{y}) \\right]$\n",
    "\n",
    "The first term $( \\mathbb{E}[(y - \\mathbb{E}[\\tilde{y}])^2] )$ is the variance of the true data around the expected prediction, which includes the bias term:\n",
    "\n",
    "$\\mathbb{E}[(y - \\mathbb{E}[\\tilde{y}])^2] = \\text{Bias}[\\tilde{y}]^2 + \\sigma^2$\n",
    "\n",
    "\n",
    "\n",
    "The second term $( \\mathbb{E}[(\\tilde{y} - \\mathbb{E}[\\tilde{y}])^2] )$ is the variance of the model:\n",
    "\n",
    "$\\mathbb{E}[(\\tilde{y} - \\mathbb{E}[\\tilde{y}])^2] = \\text{Var}[\\tilde{y}]$\n",
    "\n",
    "\n",
    "The cross-term expectation $( \\mathbb{E}[(y - \\mathbb{E}[\\tilde{y}])(\\mathbb{E}[\\tilde{y}] - \\tilde{y})] )$ is zero because $( y - \\mathbb{E}[\\tilde{y}] )$ and $( \\tilde{y} - \\mathbb{E}[\\tilde{y}] $) are independent.\n",
    "\n",
    "\n",
    "Thus, we can simplify the decomposition to:\n",
    "\n",
    "$\\mathbb{E}[(y - \\tilde{y})^2] = \\text{Bias}[\\tilde{y}]^2 + \\text{Var}[\\tilde{y}] + \\sigma^2$"
   ]
  },
  {
   "cell_type": "markdown",
   "metadata": {},
   "source": [
    "### Bias-variance analysis of the Franke function "
   ]
  },
  {
   "cell_type": "markdown",
   "metadata": {},
   "source": [
    "To analyze the bias-variance trade-off, we can use the bootstrap resampling method. This method involves randomly sampling the training data with replacement to create multiple bootstrap samples. Each bootstrap sample is used to train a model, and the predictions from these models are averaged to obtain the final prediction. By repeating this process multiple times, we can estimate the bias and variance of the model."
   ]
  },
  {
   "cell_type": "code",
   "execution_count": null,
   "metadata": {},
   "outputs": [],
   "source": [
    "# mangler skalering\n",
    "n_boostraps = 1000\n",
    "degree = np.arange(0, 7)\n",
    "\n",
    "# Make data set\n",
    "x, y, z = ld.load_normal_data(N_samples=100, noise = 0.5, seed = 42)\n",
    "#x, y, z = ld.load_range_data()\n",
    "x = x.reshape(-1, 1)\n",
    "y = y.reshape(-1, 1)\n",
    "z = z.reshape(-1, 1)\n",
    "\n",
    "error = np.zeros(len(degree))\n",
    "bias = np.zeros(len(degree))\n",
    "variance = np.zeros(len(degree))\n",
    "\n",
    "for i in degree:\n",
    "    # Combine x transformation and model into one operation.\n",
    "    #X = f.create_design_matrix(x, y, i)\n",
    "    design_matrix = PolynomialFeatures(degree=i)\n",
    "    X = design_matrix.fit_transform(np.column_stack((x, y)))\n",
    "\n",
    "    # Splitting the data into training and test data\n",
    "    X_train, X_test, z_train, z_test = train_test_split(X, z, test_size=0.2)\n",
    "\n",
    "    # Hvor skal vi skalere?\n",
    "    scaler = StandardScaler(with_std=True) #with_mean=True)\n",
    "    X_train = scaler.fit_transform(X_train)\n",
    "    X_test = scaler.transform(X_test)\n",
    "    model = LinearRegression(fit_intercept=False)\n",
    "\n",
    "    # The following (m x n_bootstraps) matrix holds the column vectors y_pred\n",
    "    # for each bootstrap iteration.\n",
    "    z_pred = np.zeros((z_test.shape[0], n_boostraps))\n",
    "\n",
    "    for j in range(n_boostraps):\n",
    "        X_, z_ = resample(X_train, z_train)\n",
    "\n",
    "        # Evaluate the new model on the same test data each time.\n",
    "        z_pred[:, j] = model.fit(X_, z_).predict(X_test).ravel()\n",
    "\n",
    "        # Note: Expectations and variances taken w.r.t. different training\n",
    "        # data sets, hence the axis=1. Subsequent means are taken across the test data\n",
    "        # set in order to obtain a total value, but before this we have error/bias/variance\n",
    "        # calculated per data point in the test set.\n",
    "        # Note 2: The use of keepdims=True is important in the calculation of bias as this \n",
    "        # maintains the column vector form. Dropping this yields very unexpected results.\n",
    "\n",
    "    error[i] = np.mean( np.mean((z_test - z_pred)**2, axis=1, keepdims=True) )\n",
    "    bias[i] = np.mean( (z_test - np.mean(z_pred, axis=1, keepdims=True))**2 )\n",
    "    variance[i] = np.mean( np.var(z_pred, axis=1, keepdims=True) )\n",
    "\n",
    "\n",
    "plt.title('Bias variance tradeoff')\n",
    "plt.xlabel('Model complexity (degree)')\n",
    "plt.ylabel('Error')\n",
    "plt.plot(degree, error, label='Error')\n",
    "plt.plot(degree, bias, label='Bias')\n",
    "plt.plot(degree, variance, label='Variance')\n",
    "plt.legend()\n",
    "plt.show()\n"
   ]
  },
  {
   "cell_type": "markdown",
   "metadata": {},
   "source": [
    "\"Discuss the bias and variance trade-off as function of your model complexity\n",
    "(the degree of the polynomial) and the number of data points, and possibly also\n",
    "your training and test data using the bootstrap resampling method.\""
   ]
  }
 ],
 "metadata": {
  "kernelspec": {
   "display_name": ".venv",
   "language": "python",
   "name": "python3"
  },
  "language_info": {
   "codemirror_mode": {
    "name": "ipython",
    "version": 3
   },
   "file_extension": ".py",
   "mimetype": "text/x-python",
   "name": "python",
   "nbconvert_exporter": "python",
   "pygments_lexer": "ipython3",
   "version": "3.11.9"
  }
 },
 "nbformat": 4,
 "nbformat_minor": 2
}
