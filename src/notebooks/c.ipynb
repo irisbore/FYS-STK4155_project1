{
 "cells": [
  {
   "cell_type": "markdown",
   "metadata": {},
   "source": [
    "## Part c): Adding Lasso for the Franke function"
   ]
  },
  {
   "cell_type": "code",
   "execution_count": null,
   "metadata": {},
   "outputs": [],
   "source": [
    "from mpl_toolkits.mplot3d import Axes3D\n",
    "import matplotlib.pyplot as plt\n",
    "from matplotlib import cm\n",
    "from matplotlib.ticker import LinearLocator, FormatStrFormatter\n",
    "import numpy as np\n",
    "from random import random, seed\n",
    "from sklearn.preprocessing import StandardScaler\n",
    "from sklearn.model_selection import train_test_split\n",
    "from sklearn.linear_model import Lasso\n",
    "from sklearn.metrics import mean_squared_error, r2_score\n",
    "from sklearn.pipeline import make_pipeline\n",
    "from sklearn.preprocessing import PolynomialFeatures\n",
    "import sys\n",
    "sys.path.append(\"../\")\n",
    "import functions as f\n",
    "import load_data as ld\n",
    "\n",
    "plt.style.use('seaborn-v0_8-whitegrid')"
   ]
  },
  {
   "cell_type": "markdown",
   "metadata": {},
   "source": [
    "## Initial values"
   ]
  },
  {
   "cell_type": "code",
   "execution_count": null,
   "metadata": {},
   "outputs": [],
   "source": [
    "x, y, z = ld.load_uniform_data()\n",
    "\n",
    "lamda = np.logspace(-6, -2, 5)\n",
    "\n",
    "degrees = np.arange(0, 10)"
   ]
  },
  {
   "cell_type": "markdown",
   "metadata": {},
   "source": [
    "## Lasso"
   ]
  },
  {
   "cell_type": "code",
   "execution_count": null,
   "metadata": {},
   "outputs": [],
   "source": [
    "\n",
    "# Empty lists to store scores and parameters\n",
    "beta_lasso_values = []\n",
    "mse_lasso_scores = []\n",
    "r2_lasso_scores = []\n",
    "\n",
    "# Looping through each lambda\n",
    "for i in range(np.size(lamda)):\n",
    "    # Polynomial degrees\n",
    "\n",
    "    # Appending lists to store scores and parameters\n",
    "    beta_lasso_values.append([])\n",
    "    mse_lasso_scores.append([])\n",
    "    r2_lasso_scores.append([])\n",
    "\n",
    "\n",
    "    # Looping through each degree\n",
    "    for degree in degrees:\n",
    "\n",
    "        # Creating design matrix\n",
    "        #X = create_design_matrix(x, degree)\n",
    "        poly_features = PolynomialFeatures(degree=degree)\n",
    "        X = poly_features.fit_transform(np.column_stack((x, y)))\n",
    "\n",
    "        # Split the data into training and test data\n",
    "        X_train, X_test, z_train, z_test = train_test_split(X, z, test_size=0.2, random_state=42)\n",
    "\n",
    "        # Scale and center the data\n",
    "        X_train, X_test = f.scale_train_test(train = X_train, test = X_test)\n",
    "        z_train, z_test = f.scale_train_test(train = z_train, test = z_test)\n",
    "        \n",
    "        # Create and fit the linear regression model\n",
    "        model = Lasso(alpha = lamda[i], fit_intercept=False, max_iter=10000000)\n",
    "        model.fit(X_train, z_train)\n",
    "        \n",
    "        # Make predictions for training and test data\n",
    "        z_train_pred = model.predict(X_train)\n",
    "        z_test_pred = model.predict(X_test)\n",
    "        \n",
    "        # Getting the coefficients (beta values)\n",
    "        beta_lasso = model.coef_\n",
    "\n",
    "        # Compute mean squared error for training and test data\n",
    "        mse_train = mean_squared_error(z_train, z_train_pred)\n",
    "        mse_test = mean_squared_error(z_test, z_test_pred)\n",
    "\n",
    "        # Compute R2 score for training and test data\n",
    "        r2_train = r2_score(z_train, z_train_pred)\n",
    "        r2_test = r2_score(z_test, z_test_pred)\n",
    "        \n",
    "        # Appending beta values and scores\n",
    "        beta_lasso_values[i].append(beta_lasso)\n",
    "        mse_lasso_scores[i].append(mse_test)\n",
    "        r2_lasso_scores[i].append(r2_test)\n",
    "\n",
    "#print(beta_lasso_values)\n",
    "#print(mse_lasso_scores)\n",
    "#print(r2_lasso_scores)"
   ]
  },
  {
   "cell_type": "code",
   "execution_count": null,
   "metadata": {},
   "outputs": [],
   "source": [
    "# Plotting MSE and R2 scores\n",
    "plt.figure(figsize=(10, 5))\n",
    "plt.subplot(1, 2, 1)\n",
    "plt.xlabel('Polynomial Degree')\n",
    "plt.ylabel('MSE')\n",
    "plt.title('MSE as a function of Polynomial Degree for Lasso')\n",
    "\n",
    "plt.subplot(1, 2, 2)\n",
    "plt.xlabel('Polynomial Degree')\n",
    "plt.ylabel('R2')\n",
    "plt.title('R2 as a function of Polynomial Degree for Lasso')\n",
    "\n",
    "for j in range(np.size(lamda)):\n",
    "    plt.subplot(1, 2, 1)\n",
    "    plt.plot(degrees, mse_lasso_scores[j], marker='o', label=f'Lambda = {lamda[j]:.6f}')\n",
    "    plt.subplot(1, 2, 2)\n",
    "    plt.plot(degrees, r2_lasso_scores[j], marker='o', label=f'Lambda = {lamda[j]:.6f}')\n",
    "\n",
    "plt.tight_layout()\n",
    "plt.legend()\n",
    "#plt.show()\n",
    "#f.save_to_results(\"lasso_error_degree.png\")"
   ]
  },
  {
   "cell_type": "code",
   "execution_count": null,
   "metadata": {},
   "outputs": [],
   "source": [
    "# Plotting beta values\n",
    "plt.figure(figsize=(10, 5))\n",
    "plt.xlabel('Polynomial Degree')\n",
    "plt.ylabel('Beta Values')\n",
    "plt.title('Beta Values as a function of Polynomial Degree')\n",
    "\n",
    "colors = plt.colormaps['Dark2'].colors\n",
    "\n",
    "for i in range(len(beta_lasso_values)):\n",
    "    for j in range(len(beta_lasso_values[i])):\n",
    "        for k in range(len(beta_lasso_values[i][j])):\n",
    "            beta_i = beta_lasso_values[i][j][k]\n",
    "            plt.plot(degrees[j]*np.ones_like(beta_lasso_values[i][j][k]), beta_lasso_values[i][j][k], marker='o', color=colors[i], label= f'Lambda = {lamda[i]:.5f}' if k == 0 else None)  # Use color based on lambda color=colors[i]\n",
    "\n",
    "plt.tight_layout()\n",
    "plt.legend(handles=[plt.Line2D([0], [0], marker='o', color='w', markerfacecolor=colors[i], label=f'Lambda = {lamda[i]:.5f}', markersize=8) for i in range(len(lamda))]) #, markerfacecolor=colors[i\n",
    "plt.show()\n"
   ]
  }
 ],
 "metadata": {
  "kernelspec": {
   "display_name": ".venv",
   "language": "python",
   "name": "python3"
  },
  "language_info": {
   "codemirror_mode": {
    "name": "ipython",
    "version": 3
   },
   "file_extension": ".py",
   "mimetype": "text/x-python",
   "name": "python",
   "nbconvert_exporter": "python",
   "pygments_lexer": "ipython3",
   "version": "3.11.9"
  }
 },
 "nbformat": 4,
 "nbformat_minor": 2
}
