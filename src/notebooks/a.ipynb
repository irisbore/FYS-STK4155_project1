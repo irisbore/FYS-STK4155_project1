{
 "cells": [
  {
   "cell_type": "markdown",
   "metadata": {},
   "source": [
    "# Project 1 FYS-STK4155"
   ]
  },
  {
   "cell_type": "markdown",
   "metadata": {},
   "source": [
    "## Part a): Ordinary Least Square (OLS) on the Franke function"
   ]
  },
  {
   "cell_type": "markdown",
   "metadata": {},
   "source": [
    "### Franke Function"
   ]
  },
  {
   "cell_type": "code",
   "execution_count": null,
   "metadata": {},
   "outputs": [],
   "source": [
    "from mpl_toolkits.mplot3d import Axes3D\n",
    "import matplotlib.pyplot as plt\n",
    "from matplotlib import cm\n",
    "from matplotlib.ticker import LinearLocator, FormatStrFormatter\n",
    "import numpy as np\n",
    "from random import random, seed\n",
    "import sys\n",
    "sys.path.append(\"../\")\n",
    "import functions as f\n",
    "plt.style.use('seaborn-v0_8-whitegrid')\n",
    "#plt.style.available\n",
    "import seaborn as sns\n",
    "import load_data as ld"
   ]
  },
  {
   "cell_type": "code",
   "execution_count": null,
   "metadata": {},
   "outputs": [],
   "source": [
    "# Standarize the data\n",
    "np.random.seed(42)\n",
    "# Make data.\n",
    "x = np.arange(0, 1, 0.05)\n",
    "y = np.arange(0, 1, 0.05)\n",
    "x, y = np.meshgrid(x,y)\n",
    "\n",
    "z = f.FrankeFunction(x, y)"
   ]
  },
  {
   "cell_type": "code",
   "execution_count": null,
   "metadata": {},
   "outputs": [],
   "source": [
    "fig = plt.figure()\n",
    "#ax = fig.gca(projection='3d')\n",
    "ax = fig.add_subplot(111, projection='3d')\n",
    "\n",
    "# Plot the surface.\n",
    "surf = ax.plot_surface(x, y, z, cmap=cm.coolwarm,\n",
    "linewidth=0, antialiased=False)\n",
    "\n",
    "# Customize the z axis.\n",
    "ax.set_zlim(-0.10, 1.40)\n",
    "ax.zaxis.set_major_locator(LinearLocator(10))\n",
    "ax.zaxis.set_major_formatter(FormatStrFormatter(\"%.02f\"))\n",
    "\n",
    "# Add a color bar which maps values to colors.\n",
    "fig.colorbar(surf, shrink=0.5, aspect=5)\n",
    "plt.show()"
   ]
  },
  {
   "cell_type": "markdown",
   "metadata": {},
   "source": [
    "Most off the code in the Franke function task is taken from the description in Project 1. "
   ]
  },
  {
   "cell_type": "markdown",
   "metadata": {},
   "source": [
    "### Own Code"
   ]
  },
  {
   "cell_type": "code",
   "execution_count": null,
   "metadata": {},
   "outputs": [],
   "source": [
    "from sklearn.preprocessing import StandardScaler\n",
    "from sklearn.model_selection import train_test_split"
   ]
  },
  {
   "cell_type": "code",
   "execution_count": null,
   "metadata": {},
   "outputs": [],
   "source": [
    "x = np.arange(0, 1, 0.001)\n",
    "y = np.arange(0, 1, 0.001)\n",
    "xv, yv = np.meshgrid(x, y)\n",
    "z = f.FrankeFunction(xv, yv) #Use xv and yv only when plotting the FranckeFunction\n",
    "z = z #+ np.random.randn(z.shape[0]) noise messes up here?\n",
    "\n",
    "# Polynomial degree\n",
    "degree = 3\n",
    "\n",
    "# Creating design matrix\n",
    "X = f.create_design_matrix(x, y, degree)\n",
    "#X = np.identity(X.shape[0]) #to test if it works\n",
    "\n",
    "print(\"X.shape\", X.shape)\n",
    "print(\"z.shape\", z.shape)\n",
    "\n",
    "OLSbeta = np.linalg.pinv(X.T @ X) @ X.T @ z # pinv avoid singular matrix problem, same as reg term\n",
    "\n",
    "ztilde = X @ OLSbeta\n",
    "\n",
    "mse = np.mean((z - ztilde)**2)\n",
    "R2 = 1 - np.sum((z - ztilde)**2) / np.sum((z - np.mean(z))**2)\n",
    "\n",
    "#print(f\"Beta: {OLSbeta}\")\n",
    "print(f\"Mse: {mse}\")\n",
    "print(f\"R2: {R2}\")\n",
    "\n",
    "fig = plt.figure()\n",
    "#ax = fig.gca(projection='3d')\n",
    "ax = fig.add_subplot(111, projection='3d')\n",
    "\n",
    "# Plot the surface.\n",
    "surf = ax.plot_surface(xv, yv, ztilde, cmap=cm.coolwarm,\n",
    "linewidth=0, antialiased=False)\n",
    "\n",
    "# Customize the z axis.\n",
    "ax.set_zlim(-0.10, 1.40)\n",
    "ax.zaxis.set_major_locator(LinearLocator(10))\n",
    "ax.zaxis.set_major_formatter(FormatStrFormatter(\"%.02f\"))\n",
    "\n",
    "# Add a color bar which maps values to colors.\n",
    "fig.colorbar(surf, shrink=0.5, aspect=5)\n",
    "plt.show()\n"
   ]
  },
  {
   "cell_type": "markdown",
   "metadata": {},
   "source": []
  },
  {
   "cell_type": "markdown",
   "metadata": {},
   "source": [
    "# Test set up with identity matrix"
   ]
  },
  {
   "cell_type": "code",
   "execution_count": null,
   "metadata": {},
   "outputs": [],
   "source": [
    "x, y, z = ld.load_normal_data()\n",
    "\n",
    "# Polynomial degrees\n",
    "degrees = np.arange(0, 5)\n",
    "\n",
    "# Empty lists to store scores and parameters\n",
    "beta_values = []\n",
    "mse_scores = []\n",
    "r2_scores = []\n",
    "\n",
    "# Looping through each degree\n",
    "for degree in degrees:\n",
    "    # Creating design matrix\n",
    "    X = f.create_design_matrix(x, y, degree)\n",
    "    print(\"design matrix shape\", X.shape)\n",
    "    X = np.identity(X.shape[0])\n",
    "\n",
    "    # Split the data into training and test data\n",
    "    X_train, X_test, z_train, z_test = train_test_split(X, z, test_size=0.2, random_state=42)\n",
    "\n",
    "    # Scale and center the data\n",
    "    scaler = StandardScaler(with_std=True, with_mean=False)\n",
    "    #X_train = scaler.fit_transform(X_train)\n",
    "    #X_test = scaler.transform(X_test)\n",
    "    \n",
    "    # Calculating OLS beta\n",
    "    OLSbeta = f.beta_OLS(X_train, z_train)\n",
    "    print(\"olsbeta.shape\", OLSbeta.shape)\n",
    "    \n",
    "    # Calculating ztilde\n",
    "    ztilde = f.z_predict(X_train, OLSbeta)\n",
    "    \n",
    "    # Calculating MSE and R2\n",
    "    mse = f.mse(z_train, ztilde)\n",
    "    print(\"mse\", mse)\n",
    "    r2 = f.r2(z_train, ztilde)\n",
    "    print(\"r2\", r2)\n",
    "\n",
    "    # Appending beta values and scores\n",
    "    beta_values.append(OLSbeta)\n",
    "    mse_scores.append(mse)\n",
    "    r2_scores.append(r2)\n"
   ]
  },
  {
   "cell_type": "markdown",
   "metadata": {},
   "source": [
    "result with identity matrix and without scaling: mse = 0 "
   ]
  },
  {
   "cell_type": "markdown",
   "metadata": {},
   "source": [
    "# Compute with random data from the normal distribution"
   ]
  },
  {
   "cell_type": "code",
   "execution_count": null,
   "metadata": {},
   "outputs": [],
   "source": [
    "x, y, z = ld.load_normal_data(N_samples=50, seed=2024)\n",
    "\n",
    "# Polynomial degrees\n",
    "degrees = np.arange(0, 6)\n",
    "\n",
    "# Empty lists to store scores and parameters\n",
    "beta_values = []\n",
    "mse_scores = []\n",
    "r2_scores = []\n",
    "\n",
    "# Looping through each degree\n",
    "for degree in degrees:\n",
    "    # Creating design matrix\n",
    "    X = f.create_design_matrix(x, y, degree)\n",
    "\n",
    "    # Split the data into training and test data\n",
    "    X_train, X_test, z_train, z_test = train_test_split(X, z, test_size=0.2, random_state=42)\n",
    "\n",
    "    # Scale and center the data\n",
    "    scaler = StandardScaler(with_std=True, with_mean=False)\n",
    "    X_train = scaler.fit_transform(X_train)\n",
    "    X_test = scaler.transform(X_test)\n",
    "    \n",
    "    # Calculating OLS beta\n",
    "    OLSbeta = f.beta_OLS(X_train, z_train)\n",
    "\n",
    "    # Calculating ztilde\n",
    "    ztilde = f.z_predict(X_test, OLSbeta)\n",
    "    \n",
    "    # Calculating MSE and R2\n",
    "    mse = f.mse(z_test, ztilde)\n",
    "    r2 = f.r2(z_test, ztilde)\n",
    "\n",
    "    # Appending beta values and scores\n",
    "    beta_values.append(OLSbeta)\n",
    "    mse_scores.append(mse)\n",
    "    r2_scores.append(r2)"
   ]
  },
  {
   "cell_type": "code",
   "execution_count": null,
   "metadata": {},
   "outputs": [],
   "source": [
    "# Plotting MSE and R2 scores\n",
    "plt.figure(figsize=(10, 5))\n",
    "plt.subplot(1, 2, 1)\n",
    "plt.plot(degrees, mse_scores, marker='o')\n",
    "plt.xlabel('Polynomial Degree')\n",
    "plt.ylabel('MSE')\n",
    "plt.title('MSE as a function of Polynomial Degree')\n",
    "\n",
    "plt.subplot(1, 2, 2)\n",
    "plt.plot(degrees, r2_scores, marker='o')\n",
    "plt.xlabel('Polynomial Degree')\n",
    "plt.ylabel('R2')\n",
    "plt.title('R2 as a function of Polynomial Degree')\n",
    "plt.tight_layout()\n",
    "#plt.savefig(fname=\"../../results/ols_error_degree.png\")\n",
    "#plt.show()"
   ]
  },
  {
   "cell_type": "code",
   "execution_count": null,
   "metadata": {},
   "outputs": [],
   "source": [
    "for degree, values in enumerate(beta_values):\n",
    "    print(\"degree\", degree, \"betavalues\", len(values))\n",
    "    print(values)\n",
    "    print(\" \")\n",
    "    degrees = np.repeat(degree, len(values))\n",
    "    plt.scatter(degrees, values)\n",
    "\n",
    "plt.xlabel('Polynomial Degree')\n",
    "plt.ylabel('Beta Values')\n",
    "plt.title('Beta values as a function of a Polynomial Degree')\n",
    "\n"
   ]
  }
 ],
 "metadata": {
  "kernelspec": {
   "display_name": ".venv",
   "language": "python",
   "name": "python3"
  },
  "language_info": {
   "codemirror_mode": {
    "name": "ipython",
    "version": 3
   },
   "file_extension": ".py",
   "mimetype": "text/x-python",
   "name": "python",
   "nbconvert_exporter": "python",
   "pygments_lexer": "ipython3",
   "version": "3.11.9"
  }
 },
 "nbformat": 4,
 "nbformat_minor": 2
}
