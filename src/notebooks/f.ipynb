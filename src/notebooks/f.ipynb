{
 "cells": [
  {
   "cell_type": "markdown",
   "metadata": {},
   "source": [
    "# Part f): Cross-validation as resampling techniques"
   ]
  },
  {
   "cell_type": "code",
   "execution_count": null,
   "metadata": {},
   "outputs": [],
   "source": [
    "import numpy as np\n",
    "from sklearn.model_selection import cross_val_score, KFold\n",
    "from sklearn.linear_model import LinearRegression, Ridge, Lasso\n",
    "from sklearn.preprocessing import PolynomialFeatures, StandardScaler\n",
    "import matplotlib.pyplot as plt\n",
    "import sys\n",
    "sys.path.append(\"../\")\n",
    "import functions as f\n",
    "plt.style.use('seaborn-v0_8-whitegrid')\n",
    "import load_data as ld\n",
    "\n",
    "x, y, z = ld.load_uniform_data()\n",
    "\n",
    "# Define the range of polynomial degrees to test\n",
    "degrees = np.arange(0, 10)\n",
    "\n",
    "# Define the number of folds\n",
    "k_folds = 10\n",
    "\n",
    "# Initialize arrays to store the MSE values\n",
    "mse_ols = np.zeros_like(degrees, dtype=float)\n",
    "mse_ridge = np.zeros_like(degrees, dtype=float)\n",
    "mse_lasso = np.zeros_like(degrees, dtype=float)\n",
    "\n",
    "# Perform k-fold cross-validation for each degree\n",
    "for i, degree in enumerate(degrees):\n",
    "    # Create polynomial features\n",
    "    poly_features = PolynomialFeatures(degree=degree)\n",
    "    X = poly_features.fit_transform(np.column_stack((x, y)))\n",
    "\n",
    "    # Scale and center the data\n",
    "    X_train, X_test = f.scale_train_test(train = X_train, test = X_test)\n",
    "    z_train, z_test = f.scale_train_test(train = z_train, test = z_test)\n",
    "\n",
    "    # Perform k-fold cross-validation for ordinary least squares\n",
    "    model_ols = LinearRegression(fit_intercept=False)\n",
    "    mse_ols[i] = -np.mean(cross_val_score(model_ols, X, z, cv=k_folds, scoring='neg_mean_squared_error'))\n",
    "    \n",
    "    # Perform k-fold cross-validation for Ridge regression\n",
    "    mse_temp = []\n",
    "    for lambda_val in np.arange(0.00001, 1, 5):\n",
    "        model_ridge = Ridge(alpha=lambda_val)\n",
    "        mse = -np.mean(cross_val_score(model_ridge, X, z, cv=k_folds, scoring='neg_mean_squared_error'))\n",
    "        mse_temp.append(mse)\n",
    "    mse_ridge[i] = np.min(mse_temp)\n",
    "    \n",
    "    # Perform k-fold cross-validation for Lasso regression\n",
    "    mse_temp = []\n",
    "    for lambda_val in np.arange(0.00001, 1, 5):\n",
    "        model_lasso = Lasso(alpha=lambda_val)\n",
    "        mse = -np.mean(cross_val_score(model_lasso, X, z, cv=k_folds, scoring='neg_mean_squared_error'))\n",
    "        mse_temp.append(mse)\n",
    "    mse_lasso[i] = np.min(mse_temp)\n",
    "\n",
    "# Plot the MSE values\n",
    "plt.figure(figsize=(8, 6))\n",
    "plt.plot(degrees, mse_ols, label='OLS')\n",
    "plt.plot(degrees, mse_ridge, label='Ridge')\n",
    "plt.plot(degrees, mse_lasso, label='Lasso')\n",
    "plt.xlabel('Polynomial Degree')\n",
    "plt.ylabel('MSE')\n",
    "plt.title('MSE for OLS, Ridge, and Lasso')\n",
    "plt.legend()\n",
    "plt.show()\n"
   ]
  }
 ],
 "metadata": {
  "kernelspec": {
   "display_name": ".venv",
   "language": "python",
   "name": "python3"
  },
  "language_info": {
   "codemirror_mode": {
    "name": "ipython",
    "version": 3
   },
   "file_extension": ".py",
   "mimetype": "text/x-python",
   "name": "python",
   "nbconvert_exporter": "python",
   "pygments_lexer": "ipython3",
   "version": "3.12.3"
  }
 },
 "nbformat": 4,
 "nbformat_minor": 2
}
